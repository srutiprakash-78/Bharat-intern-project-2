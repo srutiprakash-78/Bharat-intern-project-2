{
  "nbformat": 4,
  "nbformat_minor": 0,
  "metadata": {
    "colab": {
      "provenance": []
    },
    "kernelspec": {
      "name": "python3",
      "display_name": "Python 3"
    },
    "language_info": {
      "name": "python"
    }
  },
  "cells": [
    {
      "cell_type": "code",
      "execution_count": 1,
      "metadata": {
        "colab": {
          "base_uri": "https://localhost:8080/"
        },
        "id": "GCHdZbz69DeT",
        "outputId": "2d098af9-fbfd-4afe-b1bc-2c0aa4721e0e"
      },
      "outputs": [
        {
          "output_type": "stream",
          "name": "stdout",
          "text": [
            "1/1 [==============================] - 0s 190ms/step\n",
            "SVM prediction: setosa\n",
            "Neural Network prediction: setosa\n"
          ]
        }
      ],
      "source": [
        "# Import necessary libraries\n",
        "import numpy as np\n",
        "from sklearn.datasets import load_iris\n",
        "from sklearn.model_selection import train_test_split\n",
        "from sklearn.svm import SVC\n",
        "from sklearn.metrics import classification_report\n",
        "from sklearn.preprocessing import StandardScaler\n",
        "import tensorflow as tf\n",
        "from tensorflow.keras.models import Sequential\n",
        "from tensorflow.keras.layers import Dense\n",
        "\n",
        "# Load the Iris dataset\n",
        "iris = load_iris()\n",
        "X, y = iris.data, iris.target\n",
        "\n",
        "# Split the data into training and testing sets\n",
        "X_train, X_test, y_train, y_test = train_test_split(X, y, test_size=0.2, random_state=42)\n",
        "\n",
        "# Standardize features\n",
        "scaler = StandardScaler()\n",
        "X_train_scaled = scaler.fit_transform(X_train)\n",
        "X_test_scaled = scaler.transform(X_test)\n",
        "\n",
        "# SVM\n",
        "svm_model = SVC(kernel='linear')\n",
        "svm_model.fit(X_train_scaled, y_train)\n",
        "\n",
        "# TensorFlow Neural Network\n",
        "model = Sequential([\n",
        "    Dense(64, activation='relu', input_shape=(X_train_scaled.shape[1],)),\n",
        "    Dense(32, activation='relu'),\n",
        "    Dense(3, activation='softmax')\n",
        "])\n",
        "\n",
        "model.compile(optimizer='adam', loss='sparse_categorical_crossentropy', metrics=['accuracy'])\n",
        "model.fit(X_train_scaled, y_train, epochs=50, batch_size=32, verbose=0)\n",
        "\n",
        "# Classify new flowers\n",
        "def classify_flower(features):\n",
        "    # Standardize features\n",
        "    scaled_features = scaler.transform([features])\n",
        "\n",
        "    # SVM prediction\n",
        "    svm_prediction = svm_model.predict(scaled_features)\n",
        "\n",
        "    # Neural network prediction\n",
        "    nn_prediction = np.argmax(model.predict(scaled_features), axis=-1)\n",
        "\n",
        "    return svm_prediction, nn_prediction\n",
        "\n",
        "# Example flower features\n",
        "new_flower_features = [5.1, 3.5, 1.4, 0.2]  # Example features for a new flower\n",
        "\n",
        "# Classify new flower using SVM and neural network\n",
        "svm_prediction, nn_prediction = classify_flower(new_flower_features)\n",
        "\n",
        "print(\"SVM prediction:\", iris.target_names[svm_prediction[0]])\n",
        "print(\"Neural Network prediction:\", iris.target_names[nn_prediction[0]])\n"
      ]
    }
  ]
}